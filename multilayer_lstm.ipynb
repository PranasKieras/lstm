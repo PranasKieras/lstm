{
 "cells": [
  {
   "cell_type": "markdown",
   "metadata": {},
   "source": [
    "### All my imports"
   ]
  },
  {
   "cell_type": "code",
   "execution_count": 1,
   "metadata": {
    "collapsed": true
   },
   "outputs": [],
   "source": [
    "import numpy as np\n",
    "import pandas as pd\n",
    "import time\n",
    "import tensorflow as tf\n",
    "from string import punctuation\n",
    "from functools import reduce"
   ]
  },
  {
   "cell_type": "markdown",
   "metadata": {},
   "source": [
    "### Load data"
   ]
  },
  {
   "cell_type": "code",
   "execution_count": null,
   "metadata": {
    "collapsed": true
   },
   "outputs": [],
   "source": [
    "### load tweets and labels\n",
    "tweets = get_tweets()\n",
    "prices_raw = get_prices()"
   ]
  },
  {
   "cell_type": "markdown",
   "metadata": {},
   "source": [
    "### Read the data"
   ]
  },
  {
   "cell_type": "code",
   "execution_count": 119,
   "metadata": {},
   "outputs": [],
   "source": [
    "### data preparation utility functions\n",
    "\n",
    "def get_tweets(filename=\"./test data/twitter_btc.csv\"):\n",
    "    tweets = pd.read_csv(filename, delimiter='\\t', names=['id', 'text', 'time', 'userid'])\n",
    "    tweets['time'] = pd.to_datetime(tweets['time'])\n",
    "    tweets = tweets.sort_values('time')\n",
    "    return tweets\n",
    "\n",
    "def get_prices(pricefile = './test data/prices_btc.csv'):  \n",
    "    return pd.read_csv(pricefile)\n",
    "\n",
    "def get_word_list(tweets):\n",
    "    return set([i for i in ' '.join(tweets).split(' ')])\n",
    "\n",
    "def get_word_2_int_map(words):\n",
    "    return {word:index+1 for index,word in enumerate(words)}\n",
    "\n",
    "def get_price_dict(prices):\n",
    "    return {row['start']:row['increased'] for index, row in prices.iterrows()}\n",
    "\n",
    "def get_price_point_dict(prices):\n",
    "    return {row['start']:row['close'] for index, row in prices.iterrows()}\n",
    "\n",
    "def get_price_change_dict(prices):\n",
    "    return {row['start']:(round(((row['close']-row['open'])/row['open']),5)*100) for index, row in prices.iterrows()}\n",
    "\n",
    "def create_train_data_with_latency(tweets, price_map, latency=1):\n",
    "    time_keys = sorted(list(price_map.keys()))[:-latency]\n",
    "    tweets_train = tweets.loc[tweets['time'].astype(str).isin(time_keys)]\n",
    "    labels_train = [price_map[str(row['time'] + pd.Timedelta(minutes=latency))] for index,row in tweets_train.iterrows()]\n",
    "    return tweets_train, labels_train\n",
    "\n",
    "def create_train_merged_data_with_latency(tweets, price_map, latency=1):\n",
    "    time_keys = sorted(list(price_map.keys()))[:-latency]\n",
    "    tweets_grouped = tweets.groupby('time')\n",
    "    merged_tweets = pd.DataFrame([],columns=['time','text'])\n",
    "    for name, group in tweets_grouped:\n",
    "        tweets_joined = ' '.join(group.text)\n",
    "        merged_tweets = merged_tweets.append({'time':name, 'text':tweets_joined},ignore_index=True )\n",
    "\n",
    "    tweets_train = merged_tweets.loc[tweets['time'].astype(str).isin(time_keys)]\n",
    "    labels_train = [price_map[str(row['time'] + pd.Timedelta(minutes=latency))] for index,row in tweets_train.iterrows()]\n",
    "    return tweets_train, labels_train\n",
    "\n",
    "\n",
    "def clean_tweets(tweets):\n",
    "    cleaned_tweets = []\n",
    "    for tweet in tweets:\n",
    "        cleaned_tweets.append(''.join(\n",
    "            [c for c in ' '.join(filter(None, tweet.split(' '))) if c not in punctuation]\n",
    "        ))\n",
    "    return cleaned_tweets\n",
    "\n",
    "def tweets_to_word_int(tweets, word_2_int_map):\n",
    "    proccessed_tweets = []\n",
    "    for tweet in tweets:\n",
    "        proccessed_tweets.append([word_2_int_map[word] for word in tweet.split(' ')\n",
    "                                          if word != '' and word!= ' '])\n",
    "    return proccessed_tweets \n",
    "\n",
    "def preprocess_tweets(tweets, word_2_int_map,seq_length):\n",
    "    proccessed_tweets = np.zeros((len(tweets),seq_length),dtype=int)\n",
    "    for index, tweet in enumerate(proccessed_tweets):\n",
    "        tweet_int = tweets_ints[index]\n",
    "        tweet[seq_length - len(tweet_int):] = tweet_int\n",
    "    print(proccessed_tweets)\n",
    "    return proccessed_tweets\n",
    "\n",
    "def get_tweets_info(tweets):\n",
    "    longest = 0\n",
    "    shortest = 10\n",
    "    c = ''\n",
    "    shortest_tweet = ''\n",
    "    for tweet in tweets:\n",
    "        length = len(tweet.split(' '))\n",
    "        if length > longest:\n",
    "            longest = length\n",
    "            longest_tweet = tweet\n",
    "        if length < shortest:\n",
    "            shortest = length\n",
    "            shortest_tweet = tweet\n",
    "    print(longest, longest_tweet)\n",
    "    print(shortest, shortest_tweet)\n",
    "    return longest\n",
    "    \n",
    "def split_training_data(data, labels, ratio):    \n",
    "    split_idx = int(len(data)*ratio)\n",
    "    train_x, val_x = data[:split_idx], data[split_idx:]\n",
    "    train_y, val_y = labels[:split_idx], labels[split_idx:]\n",
    "\n",
    "    test_idx = int(len(val_x)*0.5)\n",
    "    val_x, test_x = val_x[:test_idx], val_x[test_idx:]\n",
    "    val_y, test_y = val_y[:test_idx], val_y[test_idx:]\n",
    "\n",
    "    print(\"\\t\\t\\tFeature Shapes:\")\n",
    "    print(\"Train set: \\t\\t{}\".format(train_x.shape), \n",
    "          \"\\nValidation set: \\t{}\".format(val_x.shape),\n",
    "          \"\\nTest set: \\t\\t{}\".format(test_x.shape))\n",
    "    return train_x, train_y, val_x, val_y, test_x, test_y"
   ]
  },
  {
   "cell_type": "code",
   "execution_count": 124,
   "metadata": {
    "collapsed": true
   },
   "outputs": [],
   "source": [
    "### process tweets remove seconds from tweet time\n",
    "\n",
    "## process tweet time\n",
    "tweets['time'] = tweets['time'].map(lambda x: x.replace(second=0))"
   ]
  },
  {
   "cell_type": "code",
   "execution_count": 142,
   "metadata": {
    "collapsed": true
   },
   "outputs": [],
   "source": [
    "#create price map to map tweets to labels\n",
    "price_map = get_price_dict(prices_raw)\n",
    "#price_map = get_price_change_dict(prices_raw)\n",
    "#price_map = get_price_point_dict(prices_raw)"
   ]
  },
  {
   "cell_type": "code",
   "execution_count": 143,
   "metadata": {},
   "outputs": [
    {
     "data": {
      "text/plain": [
       "501"
      ]
     },
     "execution_count": 143,
     "metadata": {},
     "output_type": "execute_result"
    }
   ],
   "source": [
    "#prepare tweet time\n",
    "#tweets1, labels1 = create_train_data_with_latency(tweets, price_map, latency=5)\n",
    "\n",
    "tweets1, labels1 = create_train_merged_data_with_latency(tweets, price_map, latency=5)\n",
    "prices = np.array(labels1)\n",
    "len(tweets1)"
   ]
  },
  {
   "cell_type": "code",
   "execution_count": 144,
   "metadata": {},
   "outputs": [],
   "source": [
    "#get tweets\n",
    "cleaned_tweets = clean_tweets(tweets1['text'])\n",
    "word_list = get_word_list(cleaned_tweets)\n",
    "word_2_int = get_word_2_int_map(word_list)\n",
    "tweets_ints = tweets_to_word_int(cleaned_tweets, word_2_int)"
   ]
  },
  {
   "cell_type": "code",
   "execution_count": 145,
   "metadata": {},
   "outputs": [
    {
     "name": "stdout",
     "output_type": "stream",
     "text": [
      "3036 RT VertiAI Top 10 VCBacked Fintech for 2017 httpstcoaj7F5hef0G Crypto CryptoCurrencies Cryptorevolution Bitcoin BlockChain C… RT SachinLulla The age of the appacus In Fintech China shows the way httpstcoQbtrZWnVZ3 Bitcoin BlockChain Cryptos CyberSecur… RT SachinLulla The age of the appacus In Fintech China shows the way httpstcoQbtrZWnVZ3 Bitcoin BlockChain Cryptos CyberSecur… RT SachinLulla Top 10 VCBacked Fintech for 2017 httpstcowgu5IX0Q4U Crypto CryptoCurrencies Cryptorevolution Bitcoin BlockChai… RT VertiAI Top 10 VCBacked Fintech for 2017 httpstcoaj7F5hef0G Crypto CryptoCurrencies Cryptorevolution Bitcoin BlockChain C… RT SachinLulla The age of the appacus In Fintech China shows the way httpstcoQbtrZWnVZ3 Bitcoin BlockChain Cryptos CyberSecur… What it feels like to earn bitcoin on a daily basis with httpstcoDBTaObMT00 Available on Google Play money… httpstcoDWI0SlwIVo RT VertiAI Top 10 VCBacked Fintech for 2017 httpstcoaj7F5hef0G Crypto CryptoCurrencies Cryptorevolution Bitcoin BlockChain C… RT VertiAI Top 10 VCBacked Fintech for 2017 httpstcoaj7F5hef0G Crypto CryptoCurrencies Cryptorevolution Bitcoin BlockChain C… RT SachinLulla The age of the appacus In Fintech China shows the way httpstcoQbtrZWnVZ3 Bitcoin BlockChain Cryptos CyberSecur… RT SachinLulla The age of the appacus In Fintech China shows the way httpstcoQbtrZWnVZ3 Bitcoin BlockChain Cryptos CyberSecur… RT SachinLulla The age of the appacus In Fintech China shows the way httpstcoQbtrZWnVZ3 Bitcoin BlockChain Cryptos CyberSecur… RT VertiAI Top 10 VCBacked Fintech for 2017 httpstcoaj7F5hef0G Crypto CryptoCurrencies Cryptorevolution Bitcoin BlockChain C… RT gladiusIO Gladius  decrease loading times and fight against DDoS attacks bitcoinertoday\n",
      "httpstcokbIwksf3dp… RT SachinLulla The age of the appacus In Fintech China shows the way httpstcoQbtrZWnVZ3 Bitcoin BlockChain Cryptos CyberSecur… RT SachinLulla The age of the appacus In Fintech China shows the way httpstcoQbtrZWnVZ3 Bitcoin BlockChain Cryptos CyberSecur… Secret Service agent stole 1600 Bitcoins from Silk Road wallet bitcoin today httpstcoQwbVnMaWke RT VertiAI Top 10 VCBacked Fintech for 2017 httpstcoaj7F5hef0G Crypto CryptoCurrencies Cryptorevolution Bitcoin BlockChain C… RT LoriMoreno Join Us Bitcoin Surging Cryptocurrency gt httpstcoiOfxirMV10 \n",
      "Watch httpstcovraWiyhOY9… Coinbase Escalates Showdown on US Tax Probe as Bitcoin Surges httpstcoi1V99I4HQl RT SachinLulla The age of the appacus In Fintech China shows the way httpstcoQbtrZWnVZ3 Bitcoin BlockChain Cryptos CyberSecur… RT SachinLulla The age of the appacus In Fintech China shows the way httpstcoQbtrZWnVZ3 Bitcoin BlockChain Cryptos CyberSecur… RT SachinLulla The age of the appacus In Fintech China shows the way httpstcoQbtrZWnVZ3 Bitcoin BlockChain Cryptos CyberSecur… RT SachinLulla The age of the appacus In Fintech China shows the way httpstcoQbtrZWnVZ3 Bitcoin BlockChain Cryptos CyberSecur… RT applancercrypt No SegWit2x happening now Bitcoin to enjoy its supremacy\n",
      "httpstcoAQBhRE6BET SegWit2x Bitcoin hardfork RT VertiAI Top 10 VCBacked Fintech for 2017 httpstcoaj7F5hef0G Crypto CryptoCurrencies Cryptorevolution Bitcoin BlockChain C… RT VertiAI Top 10 VCBacked Fintech for 2017 httpstcoaj7F5hef0G Crypto CryptoCurrencies Cryptorevolution Bitcoin BlockChain C… RT SachinLulla The age of the appacus In Fintech China shows the way httpstcoQbtrZWnVZ3 Bitcoin BlockChain Cryptos CyberSecur… Partnership with Celcius httpstcolRVbaAuTaB blockchain medium bitcoin A complete Video Tutorial on How to buy Cajutel tokens httpstcoXLk8kosmDR blockchain medium bitcoin RT SachinLulla The age of the appacus In Fintech China shows the way httpstcoQbtrZWnVZ3 Bitcoin BlockChain Cryptos CyberSecur… Be the first who tries awesome flights with McFly httpstco3AdRUFMuSp blockchain medium bitcoin RT SachinLulla The age of the appacus In Fintech China shows the way httpstcoQbtrZWnVZ3 Bitcoin BlockChain Cryptos CyberSecur… If youre thinking of investing your money gold might not be the best option Bitcoin TheFuture httpstcofXfQYDJpgB SNOVIO — a new approach to obtaining leads httpstcoy96bfhKdOr blockchain medium bitcoin RT CryptoEdge Very exciting We have a great community here in Tampa TampaBayBitcoin httpstcoysfnGfNuu5 Should or Avoid to Invest Weekly ICO Analysis httpstco3V7c3JQN8D blockchain medium bitcoin RT VertiAI Top 10 VCBacked Fintech for 2017 httpstcoaj7F5hef0G Crypto CryptoCurrencies Cryptorevolution Bitcoin BlockChain C… RT SachinLulla The age of the appacus In Fintech China shows the way httpstcoQbtrZWnVZ3 Bitcoin BlockChain Cryptos CyberSecur… The success of Multibot soft cap has been submitted httpstcoa41Ch0UfeO blockchain medium bitcoin RT cryptonetix Cryptonetix ICO PreSale Is Live httpstcoWyyjKUtQ84 via Cointelegraph crypto ICO ethereum bitcoin trading p… RT gladiusIO Gladius Brings Distributed Defense to DDoS SecurityNow\n",
      "httpstcoHdy3jNpanB\n",
      "ICO Blockchain Cryptocurrency… RT alttradex ATXT tokens are 025 at ICO with 20 BONUS on the first 1M httpstcoQGeqI8Cp9E Alttradex ICO Crypto Bitcoin Ether… RT earthtokens What are ClimateNeutral Fuels httpstcoqBbJQKJDuD blockchain fintech ico climate bitcoin ethereum… RT investingchanel blockchain application by sector fintech Bitcoin IOT AI ML IoT healthcare CyberSecurity infosec… RT VertiAI Top 10 VCBacked Fintech for 2017 httpstcoaj7F5hef0G Crypto CryptoCurrencies Cryptorevolution Bitcoin BlockChain C… RT Cointelegraph Charlie Shrem Among The First To Apologize Over SegWit2x Bitcoin Fork httpstco1rNgXvJEqv RT VertiAI Top 10 VCBacked Fintech for 2017 httpstcoaj7F5hef0G Crypto CryptoCurrencies Cryptorevolution Bitcoin BlockChain C… RT Applancerpro We all know that bitcoin is believed to be very safe and transparent But Are your bitcoins safe in online wallets… RT SachinLulla The age of the appacus In Fintech China shows the way httpstcoQbtrZWnVZ3 Bitcoin BlockChain Cryptos CyberSecur… Bitcoin ― This Kiwi Startup Delivers Bitcoin to Users on a Subscription httpstcoZaoTSn9VMf → powered by httpstcoMi7muGuhTU ⚽️🏀🏈🎾 RT LevelNetwork Interview with the founder and CEO LevelNet\n",
      "\n",
      "httpstcotRdUjQeplx\n",
      "\n",
      "blockchain bitcoin ethereum cryptocurrency ic… Bitcoin ― It is Highly Inaccurate to Describe Bitcoin as a Bubble Heres Why httpstcopUBPXbnhbU → powered b… httpstcoXRseD898aR RT SachinLulla The age of the appacus In Fintech China shows the way httpstcoQbtrZWnVZ3 Bitcoin BlockChain Cryptos CyberSecur… RT SimplyVitalHQ “Bjork Blockchain and Healthcare” httpstcoK8k6vzH9ao by kimbbellard healthcare blockchain token ehr… RT SachinLulla The age of the appacus In Fintech China shows the way httpstcoQbtrZWnVZ3 Bitcoin BlockChain Cryptos CyberSecur… RT SachinLulla The age of the appacus In Fintech China shows the way httpstcoQbtrZWnVZ3 Bitcoin BlockChain Cryptos CyberSecur… 🚀 bitcoin Cash getting closer to 1000 up 30 in the last few hours Any news httpstcoA0xzYypQ08… httpstcoEXId5zlMNw RT SachinLulla The age of the appacus In Fintech China shows the way httpstcoQbtrZWnVZ3 Bitcoin BlockChain Cryptos CyberSecur… RT SachinLulla The age of the appacus In Fintech China shows the way httpstcoQbtrZWnVZ3 Bitcoin BlockChain Cryptos CyberSecur… RT SachinLulla The age of the appacus In Fintech China shows the way httpstcoQbtrZWnVZ3 Bitcoin BlockChain Cryptos CyberSecur… RT SachinLulla The age of the appacus In Fintech China shows the way httpstcoQbtrZWnVZ3 Bitcoin BlockChain Cryptos CyberSecur… RT SachinLulla The age of the appacus In Fintech China shows the way httpstcoQbtrZWnVZ3 Bitcoin BlockChain Cryptos CyberSecur… RT SachinLulla Top 10 VCBacked Fintech for 2017 httpstcowgu5IX0Q4U Crypto CryptoCurrencies Cryptorevolution Bitcoin BlockChai… RT SachinLulla The age of the appacus In Fintech China shows the way httpstcoQbtrZWnVZ3 Bitcoin BlockChain Cryptos CyberSecur… RT rateico About how I learn from my mistakes \n",
      "Why if we make the Trust Rank and largest experts community for ICO market… RT VertiAI Top 10 VCBacked Fintech for 2017 httpstcoaj7F5hef0G Crypto CryptoCurrencies Cryptorevolution Bitcoin BlockChain C… XRP is so fucked up even at this moment it is going down cryptocurrency Ripple btc RT SachinLulla Top 10 VCBacked Fintech for 2017 httpstcowgu5IX0Q4U Crypto CryptoCurrencies Cryptorevolution Bitcoin BlockChai… RT VertiAI Top 10 VCBacked Fintech for 2017 httpstcoaj7F5hef0G Crypto CryptoCurrencies Cryptorevolution Bitcoin BlockChain C… bitcoin is History New Era of bitcoin Cash httpstcoRrBWznnDU4 cryptocurrency breaking news discussion RT SachinLulla The age of the appacus In Fintech China shows the way httpstcoQbtrZWnVZ3 Bitcoin BlockChain Cryptos CyberSecur… RT SachinLulla The age of the appacus In Fintech China shows the way httpstcoQbtrZWnVZ3 Bitcoin BlockChain Cryptos CyberSecur… RT SachinLulla The age of the appacus In Fintech China shows the way httpstcoQbtrZWnVZ3 Bitcoin BlockChain Cryptos CyberSecur… RT VertiAI Top 10 VCBacked Fintech for 2017 httpstcoaj7F5hef0G Crypto CryptoCurrencies Cryptorevolution Bitcoin BlockChain C… RT VertiAI Top 10 VCBacked Fintech for 2017 httpstcoaj7F5hef0G Crypto CryptoCurrencies Cryptorevolution Bitcoin BlockChain C… RT VertiAI Top 10 VCBacked Fintech for 2017 httpstcoaj7F5hef0G Crypto CryptoCurrencies Cryptorevolution Bitcoin BlockChain C… RT VertiAI Top 10 VCBacked Fintech for 2017 httpstcoaj7F5hef0G Crypto CryptoCurrencies Cryptorevolution Bitcoin BlockChain C… RT VertiAI Top 10 VCBacked Fintech for 2017 httpstcoaj7F5hef0G Crypto CryptoCurrencies Cryptorevolution Bitcoin BlockChain C… wef Heres what 6 of the most powerful Wall Streeters have to say about bitcoin httpstcosUClHHvotm httpstcoISSSjJNiaH bitcoin Charlie Shrem Among The First To Apologize Over SegWit2x Bitcoin Fork has been published on Bitco … httpstcow7u2ZOjPE6 RT alttradex ATXT tokens are 025 at ICO with 20 BONUS on the first 1M httpstcoQGeqI8Cp9E Alttradex ICO Crypto Bitcoin Ether… btc bitcoin news via reddit httpstcotYLHOLhJWs Peter Todd on Twitter Lets no oversell Segwit fees … httpstcoriKdAJLpc6 RT SachinLulla The age of the appacus In Fintech China shows the way httpstcoQbtrZWnVZ3 Bitcoin BlockChain Cryptos CyberSecur… RT SachinLulla The age of the appacus In Fintech China shows the way httpstcoQbtrZWnVZ3 Bitcoin BlockChain Cryptos CyberSecur… btc bitcoin news via reddit httpstcojPwlF912Eb Core spent so much energy ostracizing miners that most of… httpstcoriKdAJLpc6 RT SachinLulla Top 10 VCBacked Fintech for 2017 httpstcowgu5IX0Q4U Crypto CryptoCurrencies Cryptorevolution Bitcoin BlockChai… RT VertiAI Top 10 VCBacked Fintech for 2017 httpstcoaj7F5hef0G Crypto CryptoCurrencies Cryptorevolution Bitcoin BlockChain C… RT SachinLulla The age of the appacus In Fintech China shows the way httpstcoQbtrZWnVZ3 Bitcoin BlockChain Cryptos CyberSecur… 1 ฿ 712501 1 week ago 19070 3 months ago 19940 1 year ago 2021804 bitcoin httpstcoN0BZQbcl79 RT SachinLulla Top 10 VCBacked Fintech for 2017 httpstcowgu5IX0Q4U Crypto CryptoCurrencies Cryptorevolution Bitcoin BlockChai… RT SachinLulla The age of the appacus In Fintech China shows the way httpstcoQbtrZWnVZ3 Bitcoin BlockChain Cryptos CyberSecur… RT VertiAI Top 10 VCBacked Fintech for 2017 httpstcoaj7F5hef0G Crypto CryptoCurrencies Cryptorevolution Bitcoin BlockChain C… RT applancercrypt No SegWit2x happening now Bitcoin to enjoy its supremacy\n",
      "httpstcoAQBhRE6BET SegWit2x Bitcoin hardfork RT VertiAI Top 10 VCBacked Fintech for 2017 httpstcoaj7F5hef0G Crypto CryptoCurrencies Cryptorevolution Bitcoin BlockChain C… RT SachinLulla The age of the appacus In Fintech China shows the way httpstcoQbtrZWnVZ3 Bitcoin BlockChain Cryptos CyberSecur… RT LevelNetwork LevelNet Token PreSale starts in 6 days Visit httpstco8s5nfjo2n9 for information\n",
      "\n",
      "blockchain bitcoin… RT SachinLulla The age of the appacus In Fintech China shows the way httpstcoQbtrZWnVZ3 Bitcoin BlockChain Cryptos CyberSecur… RT SachinLulla The age of the appacus In Fintech China shows the way httpstcoQbtrZWnVZ3 Bitcoin BlockChain Cryptos CyberSecur… Buy the VAND Token from now on because the end of November the Dev team will raise the price of the VAND Token… httpstcoBeYZZplhcA RT NiceHashMining Friday payday 900 BTC  over USD 6400000 will be paid out 💥\n",
      "\n",
      "payout BTC bitcoins bitcoin mining altcoin… RT SachinLulla The age of the appacus In Fintech China shows the way httpstcoQbtrZWnVZ3 Bitcoin BlockChain Cryptos CyberSecur… New post Charlie Shrem Among The First To  has been published on  httpstcooVErf7vinN bitcoin… httpstcoRzZd21hFp3 RT SachinLulla The age of the appacus In Fintech China shows the way httpstcoQbtrZWnVZ3 Bitcoin BlockChain Cryptos CyberSecur… RT SachinLulla The age of the appacus In Fintech China shows the way httpstcoQbtrZWnVZ3 Bitcoin BlockChain Cryptos CyberSecur… RT SachinLulla Top 10 VCBacked Fintech for 2017 httpstcowgu5IX0Q4U Crypto CryptoCurrencies Cryptorevolution Bitcoin BlockChai… RT rateico About how I learn from my mistakes \n",
      "Why if we make the Trust Rank and largest experts community for ICO market… RT SachinLulla The age of the appacus In Fintech China shows the way httpstcoQbtrZWnVZ3 Bitcoin BlockChain Cryptos CyberSecur… RT SachinLulla The age of the appacus In Fintech China shows the way httpstcoQbtrZWnVZ3 Bitcoin BlockChain Cryptos CyberSecur… RT smartholdem SmartHoldem Decentralized multiarchitectural gamedev platform that is open and interactive with people onlin… RT SachinLulla The age of the appacus In Fintech China shows the way httpstcoQbtrZWnVZ3 Bitcoin BlockChain Cryptos CyberSecur… RT SachinLulla Top 10 VCBacked Fintech for 2017 httpstcowgu5IX0Q4U Crypto CryptoCurrencies Cryptorevolution Bitcoin BlockChai… RT SachinLulla The age of the appacus In Fintech China shows the way httpstcoQbtrZWnVZ3 Bitcoin BlockChain Cryptos CyberSecur… RT SachinLulla The age of the appacus In Fintech China shows the way httpstcoQbtrZWnVZ3 Bitcoin BlockChain Cryptos CyberSecur… RT SachinLulla The age of the appacus In Fintech China shows the way httpstcoQbtrZWnVZ3 Bitcoin BlockChain Cryptos CyberSecur… RT SachinLulla The age of the appacus In Fintech China shows the way httpstcoQbtrZWnVZ3 Bitcoin BlockChain Cryptos CyberSecur… RT areebakhan007 Buy bitcoin gold before it reaches 1000 mainnet launch httpstco4sC6AXhCT6\n",
      "Sell alts\n",
      "BTS XRP ZRX Fintech… RT Cointelegraph Bitcoin Leads Digitalization of Global Monetary System Finance Industry httpstcoBOTYmQWiAA Charlie Shrem Among The First To Apologize Over SegWit2x Bitcoin Fork  httpstcoOMCkPuAXBD  bitcoin httpstco3xA3GSBYeL RT Applancerpro SegWit2x which was to be rolled out on 16th November has been called off and there is no news of rescheduling the h… RT SachinLulla The age of the appacus In Fintech China shows the way httpstcoQbtrZWnVZ3 Bitcoin BlockChain Cryptos CyberSecur… RT SachinLulla The age of the appacus In Fintech China shows the way httpstcoQbtrZWnVZ3 Bitcoin BlockChain Cryptos CyberSecur… RT SachinLulla The age of the appacus In Fintech China shows the way httpstcoQbtrZWnVZ3 Bitcoin BlockChain Cryptos CyberSecur… RT SachinLulla Top 10 VCBacked Fintech for 2017 httpstcowgu5IX0Q4U Crypto CryptoCurrencies Cryptorevolution Bitcoin BlockChai… RT SachinLulla Top 10 VCBacked Fintech for 2017 httpstcowgu5IX0Q4U Crypto CryptoCurrencies Cryptorevolution Bitcoin BlockChai… RT SachinLulla The age of the appacus In Fintech China shows the way httpstcoQbtrZWnVZ3 Bitcoin BlockChain Cryptos CyberSecur… RT SachinLulla The age of the appacus In Fintech China shows the way httpstcoQbtrZWnVZ3 Bitcoin BlockChain Cryptos CyberSecur… RT SachinLulla The age of the appacus In Fintech China shows the way httpstcoQbtrZWnVZ3 Bitcoin BlockChain Cryptos CyberSecur… RT SachinLulla The age of the appacus In Fintech China shows the way httpstcoQbtrZWnVZ3 Bitcoin BlockChain Cryptos CyberSecur… RT SunnyStartups For the past 6 years 24 hours a day 7 days a week Ive been 100 obsessed with bitcoin Ive seen it go from 1… RT AnkorusGlobal bitcoin futures coming soon Ankorus will uniquely fill orders in crypto no need for fiatbanks… RT SachinLulla The age of the appacus In Fintech China shows the way httpstcoQbtrZWnVZ3 Bitcoin BlockChain Cryptos CyberSecur… RT n00bqu33n Let us know what youd like to read on 21Cryptos in the future Well save all your suggestions httpstco43u0QCVKeW RT tecnbiz Quantum Computers Pose Imminent Threat to Bitcoin Security httpstco4zUXrpfqaV Bitcoin business httpstcoRgJG0NnFpj RT smartholdem Updated the timing of ICO SmartHoldem 4112017  12122017 Many community members and Crypto enthusiasts e… RT SachinLulla Top 10 VCBacked Fintech for 2017 httpstcowgu5IX0Q4U Crypto CryptoCurrencies Cryptorevolution Bitcoin BlockChai… RT SachinLulla The age of the appacus In Fintech China shows the way httpstcoQbtrZWnVZ3 Bitcoin BlockChain Cryptos CyberSecur… RT SachinLulla The age of the appacus In Fintech China shows the way httpstcoQbtrZWnVZ3 Bitcoin BlockChain Cryptos CyberSecur… RT SachinLulla The age of the appacus In Fintech China shows the way httpstcoQbtrZWnVZ3 Bitcoin BlockChain Cryptos CyberSecur… RT SachinLulla The age of the appacus In Fintech China shows the way httpstcoQbtrZWnVZ3 Bitcoin BlockChain Cryptos CyberSecur… RT AigangNetwork We are less than a week away from our token sale and couldnt be more excited to be bringing smart insurance to the… RT SachinLulla Top 10 VCBacked Fintech for 2017 httpstcowgu5IX0Q4U Crypto CryptoCurrencies Cryptorevolution Bitcoin BlockChai… Shrug probably wrong but Ill definitely try to reenter\n",
      "BCH BTC BITCOIN BITCOINCASH CRYPTO NO2X httpstcobxq1IB6J62 RT SachinLulla Top 10 VCBacked Fintech for 2017 httpstcowgu5IX0Q4U Crypto CryptoCurrencies Cryptorevolution Bitcoin BlockChai… RT SachinLulla Top 10 VCBacked Fintech for 2017 httpstcowgu5IX0Q4U Crypto CryptoCurrencies Cryptorevolution Bitcoin BlockChai… RT SachinLulla Top 10 VCBacked Fintech for 2017 httpstcowgu5IX0Q4U Crypto CryptoCurrencies Cryptorevolution Bitcoin BlockChai… RT iQuantChain IQT has achieved cooperation with ICOChina let’s move on together\n",
      "Read more httpstcoBosomj9sp3 \n",
      "IQT… RT SachinLulla The age of the appacus In Fintech China shows the way httpstcoQbtrZWnVZ3 Bitcoin BlockChain Cryptos CyberSecur… RT SachinLulla Top 10 VCBacked Fintech for 2017 httpstcowgu5IX0Q4U Crypto CryptoCurrencies Cryptorevolution Bitcoin BlockChai… RT SachinLulla Top 10 VCBacked Fintech for 2017 httpstcowgu5IX0Q4U Crypto CryptoCurrencies Cryptorevolution Bitcoin BlockChai… RT Applancerpro Blockchain if incorporated properly it is bound to freeup our education system from scams and frauds… RT Applancerpro SegWit2x which was to be rolled out on 16th November has been called off and there is no news of rescheduling the h… RT SachinLulla Top 10 VCBacked Fintech for 2017 httpstcowgu5IX0Q4U Crypto CryptoCurrencies Cryptorevolution Bitcoin BlockChai… RT applancercrypt No SegWit2x happening now Bitcoin to enjoy its supremacy\n",
      "httpstcoAQBhRE6BET SegWit2x Bitcoin hardfork RT BTCTN Do you need to prove ownership over any data Make use of httpstcoqPJg8H9oh4 and make your ownership Blockchain official… RT SachinLulla Top 10 VCBacked Fintech for 2017 httpstcowgu5IX0Q4U Crypto CryptoCurrencies Cryptorevolution Bitcoin BlockChai… RT SachinLulla Top 10 VCBacked Fintech for 2017 httpstcowgu5IX0Q4U Crypto CryptoCurrencies Cryptorevolution Bitcoin BlockChai… RT SachinLulla Top 10 VCBacked Fintech for 2017 httpstcowgu5IX0Q4U Crypto CryptoCurrencies Cryptorevolution Bitcoin BlockChai… RT RichardHeartWin Bitcoin has half the search volume of gold now GOLD httpstcooKqttcArVj RT HawalaToday httpstco0f5IGMp8p7 is now trading at Auroradao \n",
      "\n",
      "httpstcoL0GwIPMBxa\n",
      "\n",
      "HAT ETH ERC20 BTC RT SachinLulla Top 10 VCBacked Fintech for 2017 httpstcowgu5IX0Q4U Crypto CryptoCurrencies Cryptorevolution Bitcoin BlockChai… RT TotumTeam Discussing some new business ideas \n",
      "blockchain ico cryptocurrency cryptomining mining innovation future… WindCoin bitcoin altcoin blockchain Join with this project RT SachinLulla Top 10 VCBacked Fintech for 2017 httpstcowgu5IX0Q4U Crypto CryptoCurrencies Cryptorevolution Bitcoin BlockChai… Alexander Borodich develops Universa blockchain platformbased solution for the President of bitcoin  httpstcouqOUCfVqsl RT SachinLulla Top 10 VCBacked Fintech for 2017 httpstcowgu5IX0Q4U Crypto CryptoCurrencies Cryptorevolution Bitcoin BlockChai… AiX brings fairness transparency and freedom to Crypto Changing the way the world trades AIXai ICO ether… httpstcoFEXXCGXpZM RT SachinLulla Top 10 VCBacked Fintech for 2017 httpstcowgu5IX0Q4U Crypto CryptoCurrencies Cryptorevolution Bitcoin BlockChai… RT applancercrypt No SegWit2x happening now Bitcoin to enjoy its supremacy\n",
      "httpstcoAQBhRE6BET SegWit2x Bitcoin hardfork RT tecnbiz Quantum Computers Pose Imminent Threat to Bitcoin Security httpstco4zUXrpfqaV Bitcoin business httpstcoRgJG0NnFpj RT SachinLulla Top 10 VCBacked Fintech for 2017 httpstcowgu5IX0Q4U Crypto CryptoCurrencies Cryptorevolution Bitcoin BlockChai… RT SachinLulla Top 10 VCBacked Fintech for 2017 httpstcowgu5IX0Q4U Crypto CryptoCurrencies Cryptorevolution Bitcoin BlockChai… RT SachinLulla Top 10 VCBacked Fintech for 2017 httpstcowgu5IX0Q4U Crypto CryptoCurrencies Cryptorevolution Bitcoin BlockChai… RT SachinLulla Top 10 VCBacked Fintech for 2017 httpstcowgu5IX0Q4U Crypto CryptoCurrencies Cryptorevolution Bitcoin BlockChai… RT Applancerpro Blockchain if incorporated properly it is bound to freeup our education system from scams and frauds… 87 Buy and Sell bitcoins online BuyBitcoin Cryptocurrency Bitcoin BTS httpstcoGFV8zPo3f6 RT SimplyVitalHQ “Bjork Blockchain and Healthcare” httpstcoK8k6vzH9ao by kimbbellard healthcare blockchain token ehr… RT SachinLulla Top 10 VCBacked Fintech for 2017 httpstcowgu5IX0Q4U Crypto CryptoCurrencies Cryptorevolution Bitcoin BlockChai… RT Applancerpro We all know that bitcoin is believed to be very safe and transparent But Are your bitcoins safe in online wallets… RT uasociolog PR Quantstamp and Experty Announce Partnership to Provide Smart Contract Auditing Consultations httpstco2gZdsc43vz B… RT SachinLulla Top 10 VCBacked Fintech for 2017 httpstcowgu5IX0Q4U Crypto CryptoCurrencies Cryptorevolution Bitcoin BlockChai… RT SachinLulla Top 10 VCBacked Fintech for 2017 httpstcowgu5IX0Q4U Crypto CryptoCurrencies Cryptorevolution Bitcoin BlockChai… RT SachinLulla Top 10 VCBacked Fintech for 2017 httpstcowgu5IX0Q4U Crypto CryptoCurrencies Cryptorevolution Bitcoin BlockChai… RT LevelNetwork Check out LevelNet ICO Bounty Campaign Follow the link for the details\n",
      "\n",
      "httpstco5onqtoNsYt\n",
      "\n",
      "blockchain bitcoin … RT SachinLulla Top 10 VCBacked Fintech for 2017 httpstcowgu5IX0Q4U Crypto CryptoCurrencies Cryptorevolution Bitcoin BlockChai… RT TheBlockchain Secret Service agent stole 1600 Bitcoins from Silk Road wallet httpstcor3tdppzPnM bitcoin blockchain fintech RT SachinLulla Top 10 VCBacked Fintech for 2017 httpstcowgu5IX0Q4U Crypto CryptoCurrencies Cryptorevolution Bitcoin BlockChai…\n",
      "10 \n"
     ]
    }
   ],
   "source": [
    "#describe the tweet \n",
    "longest = get_tweets_info(cleaned_tweets)\n"
   ]
  },
  {
   "cell_type": "code",
   "execution_count": 146,
   "metadata": {},
   "outputs": [
    {
     "name": "stdout",
     "output_type": "stream",
     "text": [
      "[[    0     0     0 ...,  8118 16855 22019]\n",
      " [    0     0     0 ..., 13618 18240 10836]\n",
      " [    0     0     0 ..., 36422  5412 16775]\n",
      " ..., \n",
      " [    0     0     0 ..., 30439 15884 18745]\n",
      " [    0     0     0 ..., 35968  2343 34365]\n",
      " [    0     0     0 ..., 21011 30439 15884]]\n"
     ]
    }
   ],
   "source": [
    "#create word list and word to int map\n",
    "tweet_final = preprocess_tweets(seq_length=longest, tweets=tweets_ints, word_2_int_map=word_2_int)"
   ]
  },
  {
   "cell_type": "code",
   "execution_count": 147,
   "metadata": {},
   "outputs": [
    {
     "name": "stdout",
     "output_type": "stream",
     "text": [
      "\t\t\tFeature Shapes:\n",
      "Train set: \t\t(400, 3036) \n",
      "Validation set: \t(50, 3036) \n",
      "Test set: \t\t(51, 3036)\n"
     ]
    }
   ],
   "source": [
    "train_x, train_y, val_x, val_y, test_x, test_y = split_training_data(tweet_final, prices, 0.8)"
   ]
  },
  {
   "cell_type": "code",
   "execution_count": 148,
   "metadata": {
    "collapsed": true
   },
   "outputs": [],
   "source": [
    "n_words = len(word_2_int) + 1 # Adding 1 because we use 0's for padding, dictionary started at 1\n"
   ]
  },
  {
   "cell_type": "markdown",
   "metadata": {},
   "source": [
    "### Some utility functions"
   ]
  },
  {
   "cell_type": "code",
   "execution_count": 149,
   "metadata": {
    "collapsed": true
   },
   "outputs": [],
   "source": [
    "def get_inputs(output_dtype):\n",
    "    inputs = tf.placeholder(dtype=tf.int32, shape=[None, None ], name=\"inputs\")\n",
    "    labels = tf.placeholder(dtype=output_dtype, shape=[None, None ], name=\"labels\")\n",
    "    learning_rate = tf.placeholder(dtype=tf.float32, shape=(None), name=\"learning_rate\")\n",
    "    return inputs,labels, learning_rate"
   ]
  },
  {
   "cell_type": "code",
   "execution_count": 150,
   "metadata": {
    "collapsed": true
   },
   "outputs": [],
   "source": [
    "def get_embeding(inputs, word_number, embeding_size):\n",
    "    embeding = tf.Variable(tf.random_uniform((word_number, embeding_size),-1, 1, seed=123)) \n",
    "    embed = tf.nn.embedding_lookup(embeding, inputs)\n",
    "    return embed"
   ]
  },
  {
   "cell_type": "code",
   "execution_count": 151,
   "metadata": {
    "collapsed": true
   },
   "outputs": [],
   "source": [
    "def get_init_cell(batch_size, lstm_size, lstm_layers):\n",
    "    lstm = tf.contrib.rnn.BasicLSTMCell(lstm_size)\n",
    "    keep_prob = tf.placeholder(dtype=tf.float32, name=\"keep_prob\" )\n",
    "    dropout = tf.contrib.rnn.DropoutWrapper(cell=lstm, output_keep_prob=keep_prob, seed=124)\n",
    "    cell = tf.contrib.rnn.MultiRNNCell([dropout]*lstm_layers)\n",
    "    initial_state = cell.zero_state(batch_size=batch_size, dtype=tf.float32)\n",
    "    initial_state = tf.identity(initial_state, name=\"initial_state\")\n",
    "    return initial_state, cell, keep_prob"
   ]
  },
  {
   "cell_type": "code",
   "execution_count": 152,
   "metadata": {
    "collapsed": true
   },
   "outputs": [],
   "source": [
    "def build_rnn(cell, inputs):\n",
    "    rnn, final_state = tf.nn.dynamic_rnn(cell=cell, inputs=inputs, dtype=tf.float32)\n",
    "    final_state = tf.identity(final_state, name=\"final_state\")\n",
    "    return rnn, final_state"
   ]
  },
  {
   "cell_type": "code",
   "execution_count": 153,
   "metadata": {
    "collapsed": true
   },
   "outputs": [],
   "source": [
    "def build_nn(cell, rnn_size, inputs, word_number):\n",
    "    embed = get_embeding(inputs=inputs, word_number=word_number, embeding_size=rnn_size)\n",
    "    outputs, final_state = build_rnn(cell=cell, inputs=embed)\n",
    "    predictions = tf.contrib.layers.fully_connected(outputs[:, -1], 1,\n",
    "                                               weights_initializer=tf.truncated_normal_initializer(0.1, seed=125),\n",
    "                                              activation_fn=None)\n",
    "    return predictions, final_state"
   ]
  },
  {
   "cell_type": "code",
   "execution_count": 154,
   "metadata": {
    "collapsed": true
   },
   "outputs": [],
   "source": [
    "def get_batches(x, y, batch_size=100):    \n",
    "    n_batches = len(x)//batch_size\n",
    "    x, y = x[:n_batches*batch_size], y[:n_batches*batch_size]\n",
    "    for ii in range(0, len(x), batch_size):\n",
    "        yield x[ii:ii+batch_size], y[ii:ii+batch_size]\n",
    "    "
   ]
  },
  {
   "cell_type": "code",
   "execution_count": 155,
   "metadata": {
    "collapsed": true
   },
   "outputs": [],
   "source": [
    "def variable_summaries(var):\n",
    "    \"\"\"Attach a lot of summaries to a Tensor (for TensorBoard visualization).\"\"\"\n",
    "    with tf.name_scope('summaries'):\n",
    "        mean = tf.reduce_mean(var)\n",
    "        tf.summary.scalar('mean', mean)\n",
    "        with tf.name_scope('stddev'):\n",
    "            stddev = tf.sqrt(tf.reduce_mean(tf.square(var - mean)))\n",
    "        tf.summary.scalar('stddev', stddev)\n",
    "        tf.summary.scalar('max', tf.reduce_max(var))\n",
    "        tf.summary.scalar('min', tf.reduce_min(var))\n",
    "        tf.summary.histogram('histogram', var)"
   ]
  },
  {
   "cell_type": "code",
   "execution_count": 163,
   "metadata": {
    "collapsed": true
   },
   "outputs": [],
   "source": [
    "#hyper parameters\n",
    "num_epochs = 10\n",
    "batch_size = 5\n",
    "rnn_size = 512\n",
    "lstm_layers = 6\n",
    "learning_rate = 0.001\n",
    "keep_pr = 0.7\n",
    "problem_type = 0 # 0 is clasification if price goes up (1) or down (0), 1 regression \n",
    "save_dir = './save'\n"
   ]
  },
  {
   "cell_type": "markdown",
   "metadata": {},
   "source": [
    "### Build the network"
   ]
  },
  {
   "cell_type": "code",
   "execution_count": 164,
   "metadata": {},
   "outputs": [
    {
     "name": "stdout",
     "output_type": "stream",
     "text": [
      "rnn-kernel-0\n",
      "rnn-bias-0\n",
      "fc-weights-0\n",
      "fc-biases-0\n"
     ]
    }
   ],
   "source": [
    "train_graph = tf.Graph()\n",
    "with train_graph.as_default():\n",
    "    vocab_size = 1\n",
    "    inputs, labels, lr = get_inputs(tf.int32)\n",
    "    initial_state,cell, keep_prob = get_init_cell(batch_size, rnn_size, lstm_layers)\n",
    "    predictions, final_state = build_nn(cell, rnn_size,inputs, n_words)\n",
    "        \n",
    "    with tf.name_scope('cost'):\n",
    "        cost = tf.losses.mean_squared_error(labels, predictions)\n",
    "        tf.summary.scalar('cost', cost)\n",
    "        \n",
    "    with tf.name_scope('accuracy'):    \n",
    "        optimizer = tf.train.AdamOptimizer(lr).minimize(cost)\n",
    "        if problem_type == 0:\n",
    "            correct_pred = tf.equal(tf.cast(tf.round(predictions), tf.int32), labels)\n",
    "            accuracy = tf.reduce_mean(tf.cast(correct_pred, tf.float32))\n",
    "        if problem_type == 1:\n",
    "            accuracy = tf.losses.mean_squared_error(labels, predictions)\n",
    "        tf.summary.scalar('accuracy',accuracy)\n",
    "            \n",
    "    saver = tf.train.Saver()\n",
    "\n",
    "    for var in tf.trainable_variables('rnn'):\n",
    "        names = var.name.split('/')[-1].split(':')\n",
    "        name=  'rnn-'+names[0] + \"-\" + names[1]\n",
    "        print(name)\n",
    "        with tf.variable_scope(name):\n",
    "            variable_summaries(var)            \n",
    "\n",
    "    for var in tf.trainable_variables('fully_connected'):\n",
    "        names = var.name.split('/')[-1].split(':')\n",
    "        name=  'fc-'+names[0] + \"-\" + names[1]\n",
    "        print(name)\n",
    "        with tf.variable_scope(name):\n",
    "            variable_summaries(var)   \n",
    "\n",
    "    "
   ]
  },
  {
   "cell_type": "markdown",
   "metadata": {},
   "source": [
    "### Train network"
   ]
  },
  {
   "cell_type": "code",
   "execution_count": 165,
   "metadata": {
    "scrolled": true
   },
   "outputs": [
    {
     "name": "stdout",
     "output_type": "stream",
     "text": [
      "Epoch: 0/10 Iteration: 5 Train loss: 0.1876\n",
      "Epoch: 0/10 Iteration: 10 Train loss: 0.5269\n",
      "Epoch: 0/10 Iteration: 15 Train loss: 0.2721\n",
      "Epoch: 0/10 Iteration: 20 Train loss: 0.4174\n",
      "Epoch: 0/10 Iteration: 25 Train loss: 0.6590\n",
      "Val acc: 0.46000004\n",
      "Epoch: 0/10 Iteration: 30 Train loss: 0.4853\n",
      "Epoch: 0/10 Iteration: 35 Train loss: 0.2625\n",
      "Epoch: 0/10 Iteration: 40 Train loss: 0.6310\n",
      "Epoch: 0/10 Iteration: 45 Train loss: 0.6247\n",
      "Epoch: 0/10 Iteration: 50 Train loss: 0.4567\n",
      "Val acc: 0.52000004\n",
      "Epoch: 0/10 Iteration: 55 Train loss: 0.3999\n",
      "Epoch: 0/10 Iteration: 60 Train loss: 0.4997\n",
      "Epoch: 0/10 Iteration: 65 Train loss: 0.7367\n",
      "Epoch: 0/10 Iteration: 70 Train loss: 0.2518\n",
      "Epoch: 0/10 Iteration: 75 Train loss: 0.1024\n",
      "Val acc: 0.18000001\n",
      "Epoch: 0/10 Iteration: 80 Train loss: 0.8869\n",
      "Epoch: 1/10 Iteration: 85 Train loss: 0.5330\n",
      "Epoch: 1/10 Iteration: 90 Train loss: 0.0733\n",
      "Epoch: 1/10 Iteration: 95 Train loss: 0.4838\n",
      "Epoch: 1/10 Iteration: 100 Train loss: 0.7186\n",
      "Val acc: 0.56000000\n",
      "Epoch: 1/10 Iteration: 105 Train loss: 0.2637\n",
      "Epoch: 1/10 Iteration: 110 Train loss: 0.1957\n",
      "Epoch: 1/10 Iteration: 115 Train loss: 0.1352\n",
      "Epoch: 1/10 Iteration: 120 Train loss: 0.3624\n",
      "Epoch: 1/10 Iteration: 125 Train loss: 0.4922\n",
      "Val acc: 0.47999996\n",
      "Epoch: 1/10 Iteration: 130 Train loss: 0.1061\n",
      "Epoch: 1/10 Iteration: 135 Train loss: 0.3304\n",
      "Epoch: 1/10 Iteration: 140 Train loss: 0.2861\n",
      "Epoch: 1/10 Iteration: 145 Train loss: 0.3342\n",
      "Epoch: 1/10 Iteration: 150 Train loss: 0.5997\n",
      "Val acc: 0.54000002\n",
      "Epoch: 1/10 Iteration: 155 Train loss: 0.1573\n",
      "Epoch: 1/10 Iteration: 160 Train loss: 0.2178\n",
      "Epoch: 2/10 Iteration: 165 Train loss: 0.3805\n",
      "Epoch: 2/10 Iteration: 170 Train loss: 0.1349\n",
      "Epoch: 2/10 Iteration: 175 Train loss: 0.1961\n",
      "Val acc: 0.58000004\n",
      "Epoch: 2/10 Iteration: 180 Train loss: 0.4168\n",
      "Epoch: 2/10 Iteration: 185 Train loss: 0.2188\n",
      "Epoch: 2/10 Iteration: 190 Train loss: 0.1574\n",
      "Epoch: 2/10 Iteration: 195 Train loss: 0.4739\n",
      "Epoch: 2/10 Iteration: 200 Train loss: 0.3727\n",
      "Val acc: 0.49999994\n",
      "Epoch: 2/10 Iteration: 205 Train loss: 0.4578\n",
      "Epoch: 2/10 Iteration: 210 Train loss: 0.4982\n",
      "Epoch: 2/10 Iteration: 215 Train loss: 0.1537\n",
      "Epoch: 2/10 Iteration: 220 Train loss: 0.4510\n",
      "Epoch: 2/10 Iteration: 225 Train loss: 0.2263\n",
      "Val acc: 0.56000000\n",
      "Epoch: 2/10 Iteration: 230 Train loss: 0.1713\n",
      "Epoch: 2/10 Iteration: 235 Train loss: 0.0429\n",
      "Epoch: 2/10 Iteration: 240 Train loss: 0.1392\n",
      "Epoch: 3/10 Iteration: 245 Train loss: 0.2987\n",
      "Epoch: 3/10 Iteration: 250 Train loss: 0.2348\n",
      "Val acc: 0.45999998\n",
      "Epoch: 3/10 Iteration: 255 Train loss: 0.0617\n",
      "Epoch: 3/10 Iteration: 260 Train loss: 0.2115\n",
      "Epoch: 3/10 Iteration: 265 Train loss: 0.1492\n",
      "Epoch: 3/10 Iteration: 270 Train loss: 0.4801\n",
      "Epoch: 3/10 Iteration: 275 Train loss: 0.1611\n",
      "Val acc: 0.51999992\n",
      "Epoch: 3/10 Iteration: 280 Train loss: 0.1817\n",
      "Epoch: 3/10 Iteration: 285 Train loss: 0.1507\n",
      "Epoch: 3/10 Iteration: 290 Train loss: 0.2407\n",
      "Epoch: 3/10 Iteration: 295 Train loss: 0.1693\n",
      "Epoch: 3/10 Iteration: 300 Train loss: 0.2387\n",
      "Val acc: 0.36000004\n",
      "Epoch: 3/10 Iteration: 305 Train loss: 0.2717\n",
      "Epoch: 3/10 Iteration: 310 Train loss: 0.0895\n",
      "Epoch: 3/10 Iteration: 315 Train loss: 0.2143\n",
      "Epoch: 3/10 Iteration: 320 Train loss: 0.0874\n",
      "Epoch: 4/10 Iteration: 325 Train loss: 0.2368\n",
      "Val acc: 0.41999999\n",
      "Epoch: 4/10 Iteration: 330 Train loss: 0.2621\n",
      "Epoch: 4/10 Iteration: 335 Train loss: 0.0655\n",
      "Epoch: 4/10 Iteration: 340 Train loss: 0.1246\n",
      "Epoch: 4/10 Iteration: 345 Train loss: 0.2318\n",
      "Epoch: 4/10 Iteration: 350 Train loss: 0.1837\n",
      "Val acc: 0.44000000\n",
      "Epoch: 4/10 Iteration: 355 Train loss: 0.1987\n",
      "Epoch: 4/10 Iteration: 360 Train loss: 0.1960\n",
      "Epoch: 4/10 Iteration: 365 Train loss: 0.1536\n",
      "Epoch: 4/10 Iteration: 370 Train loss: 0.3572\n",
      "Epoch: 4/10 Iteration: 375 Train loss: 0.2546\n",
      "Val acc: 0.50000006\n",
      "Epoch: 4/10 Iteration: 380 Train loss: 0.1507\n",
      "Epoch: 4/10 Iteration: 385 Train loss: 0.1906\n",
      "Epoch: 4/10 Iteration: 390 Train loss: 0.0396\n",
      "Epoch: 4/10 Iteration: 395 Train loss: 0.0350\n",
      "Epoch: 4/10 Iteration: 400 Train loss: 0.1784\n",
      "Val acc: 0.56000000\n",
      "Epoch: 5/10 Iteration: 405 Train loss: 0.1412\n",
      "Epoch: 5/10 Iteration: 410 Train loss: 0.0868\n",
      "Epoch: 5/10 Iteration: 415 Train loss: 0.0631\n",
      "Epoch: 5/10 Iteration: 420 Train loss: 0.1659\n",
      "Epoch: 5/10 Iteration: 425 Train loss: 0.2319\n",
      "Val acc: 0.51999998\n",
      "Epoch: 5/10 Iteration: 430 Train loss: 0.1361\n",
      "Epoch: 5/10 Iteration: 435 Train loss: 0.2161\n",
      "Epoch: 5/10 Iteration: 440 Train loss: 0.2204\n",
      "Epoch: 5/10 Iteration: 445 Train loss: 0.1617\n",
      "Epoch: 5/10 Iteration: 450 Train loss: 0.3265\n",
      "Val acc: 0.44000000\n",
      "Epoch: 5/10 Iteration: 455 Train loss: 0.1803\n",
      "Epoch: 5/10 Iteration: 460 Train loss: 0.2438\n",
      "Epoch: 5/10 Iteration: 465 Train loss: 0.3557\n",
      "Epoch: 5/10 Iteration: 470 Train loss: 0.0981\n",
      "Epoch: 5/10 Iteration: 475 Train loss: 0.2136\n",
      "Val acc: 0.47999996\n",
      "Epoch: 5/10 Iteration: 480 Train loss: 0.1082\n",
      "Epoch: 6/10 Iteration: 485 Train loss: 0.0552\n",
      "Epoch: 6/10 Iteration: 490 Train loss: 0.1140\n",
      "Epoch: 6/10 Iteration: 495 Train loss: 0.0728\n",
      "Epoch: 6/10 Iteration: 500 Train loss: 0.1674\n",
      "Val acc: 0.47999996\n",
      "Epoch: 6/10 Iteration: 505 Train loss: 0.0848\n",
      "Epoch: 6/10 Iteration: 510 Train loss: 0.0356\n",
      "Epoch: 6/10 Iteration: 515 Train loss: 0.1502\n",
      "Epoch: 6/10 Iteration: 520 Train loss: 0.0847\n",
      "Epoch: 6/10 Iteration: 525 Train loss: 0.1188\n",
      "Val acc: 0.47999996\n",
      "Epoch: 6/10 Iteration: 530 Train loss: 0.1095\n",
      "Epoch: 6/10 Iteration: 535 Train loss: 0.1304\n",
      "Epoch: 6/10 Iteration: 540 Train loss: 0.1103\n",
      "Epoch: 6/10 Iteration: 545 Train loss: 0.0616\n",
      "Epoch: 6/10 Iteration: 550 Train loss: 0.1946\n",
      "Val acc: 0.45999998\n",
      "Epoch: 6/10 Iteration: 555 Train loss: 0.1525\n",
      "Epoch: 6/10 Iteration: 560 Train loss: 0.0875\n",
      "Epoch: 7/10 Iteration: 565 Train loss: 0.0450\n",
      "Epoch: 7/10 Iteration: 570 Train loss: 0.1604\n",
      "Epoch: 7/10 Iteration: 575 Train loss: 0.1812\n",
      "Val acc: 0.58000004\n",
      "Epoch: 7/10 Iteration: 580 Train loss: 0.0930\n",
      "Epoch: 7/10 Iteration: 585 Train loss: 0.0853\n",
      "Epoch: 7/10 Iteration: 590 Train loss: 0.0811\n",
      "Epoch: 7/10 Iteration: 595 Train loss: 0.1236\n",
      "Epoch: 7/10 Iteration: 600 Train loss: 0.1275\n",
      "Val acc: 0.51999998\n",
      "Epoch: 7/10 Iteration: 605 Train loss: 0.0327\n",
      "Epoch: 7/10 Iteration: 610 Train loss: 0.1007\n",
      "Epoch: 7/10 Iteration: 615 Train loss: 0.1750\n",
      "Epoch: 7/10 Iteration: 620 Train loss: 0.1623\n",
      "Epoch: 7/10 Iteration: 625 Train loss: 0.0523\n",
      "Val acc: 0.47999996\n",
      "Epoch: 7/10 Iteration: 630 Train loss: 0.0795\n",
      "Epoch: 7/10 Iteration: 635 Train loss: 0.1833\n",
      "Epoch: 7/10 Iteration: 640 Train loss: 0.0793\n",
      "Epoch: 8/10 Iteration: 645 Train loss: 0.1256\n",
      "Epoch: 8/10 Iteration: 650 Train loss: 0.1248\n",
      "Val acc: 0.51999998\n",
      "Epoch: 8/10 Iteration: 655 Train loss: 0.0485\n",
      "Epoch: 8/10 Iteration: 660 Train loss: 0.0624\n",
      "Epoch: 8/10 Iteration: 665 Train loss: 0.0252\n",
      "Epoch: 8/10 Iteration: 670 Train loss: 0.2415\n",
      "Epoch: 8/10 Iteration: 675 Train loss: 0.1033\n",
      "Val acc: 0.44000000\n",
      "Epoch: 8/10 Iteration: 680 Train loss: 0.0737\n",
      "Epoch: 8/10 Iteration: 685 Train loss: 0.2074\n",
      "Epoch: 8/10 Iteration: 690 Train loss: 0.0900\n",
      "Epoch: 8/10 Iteration: 695 Train loss: 0.0999\n",
      "Epoch: 8/10 Iteration: 700 Train loss: 0.2431\n",
      "Val acc: 0.45999998\n",
      "Epoch: 8/10 Iteration: 705 Train loss: 0.0562\n",
      "Epoch: 8/10 Iteration: 710 Train loss: 0.1380\n",
      "Epoch: 8/10 Iteration: 715 Train loss: 0.1618\n",
      "Epoch: 8/10 Iteration: 720 Train loss: 0.0364\n",
      "Epoch: 9/10 Iteration: 725 Train loss: 0.0857\n",
      "Val acc: 0.55999994\n",
      "Epoch: 9/10 Iteration: 730 Train loss: 0.1266\n",
      "Epoch: 9/10 Iteration: 735 Train loss: 0.0964\n",
      "Epoch: 9/10 Iteration: 740 Train loss: 0.1174\n",
      "Epoch: 9/10 Iteration: 745 Train loss: 0.1236\n",
      "Epoch: 9/10 Iteration: 750 Train loss: 0.2014\n",
      "Val acc: 0.53999996\n",
      "Epoch: 9/10 Iteration: 755 Train loss: 0.0642\n",
      "Epoch: 9/10 Iteration: 760 Train loss: 0.0263\n",
      "Epoch: 9/10 Iteration: 765 Train loss: 0.0837\n",
      "Epoch: 9/10 Iteration: 770 Train loss: 0.0976\n",
      "Epoch: 9/10 Iteration: 775 Train loss: 0.1472\n",
      "Val acc: 0.47999996\n",
      "Epoch: 9/10 Iteration: 780 Train loss: 0.2014\n",
      "Epoch: 9/10 Iteration: 785 Train loss: 0.1220\n",
      "Epoch: 9/10 Iteration: 790 Train loss: 0.1622\n",
      "Epoch: 9/10 Iteration: 795 Train loss: 0.2245\n",
      "Epoch: 9/10 Iteration: 800 Train loss: 0.1379\n",
      "Val acc: 0.51999998\n",
      "--- 14938.810865402222 seconds ---\n"
     ]
    }
   ],
   "source": [
    "import time\n",
    "start_time = time.time()\n",
    "\n",
    "\n",
    "with tf.device('/gpu:0'):\n",
    "    with tf.Session(graph=train_graph) as sess:\n",
    "        train_writer = tf.summary.FileWriter(\"./logs/nn_logs\",\n",
    "                                      sess.graph)\n",
    "        merged = tf.summary.merge_all()\n",
    "        sess.run(tf.global_variables_initializer())\n",
    "        iteration = 1\n",
    "        for epoch in range(num_epochs):\n",
    "            state = sess.run(initial_state)\n",
    "            for index, (x, y) in enumerate(get_batches(train_x, train_y, batch_size),1):\n",
    "                feed = {\n",
    "                        inputs: x, \n",
    "                        labels:y[:,None], \n",
    "                        lr: learning_rate,\n",
    "                        keep_prob: keep_pr,\n",
    "                        initial_state:state}\n",
    "\n",
    "                loss, state, _ = sess.run([cost, \n",
    "                                        final_state, \n",
    "                                        optimizer],\n",
    "                                        feed_dict=feed)\n",
    "                if iteration%5==0:\n",
    "                    print(\n",
    "                    \"Epoch: {0}/{1}\".format(epoch, num_epochs),\n",
    "                    \"Iteration: {0}\".format(iteration),\n",
    "                    \"Train loss: {:.4f}\".format(loss))\n",
    "\n",
    "                if iteration%25==0:\n",
    "                    val_acc = []\n",
    "                    val_state = sess.run(cell.zero_state(batch_size, tf.float32))\n",
    "                    for x,y in get_batches(val_x, val_y, batch_size):\n",
    "                        feed = {inputs: x, \n",
    "                                labels:y[:,None],\n",
    "                                keep_prob:1.0,\n",
    "                                initial_state:val_state}\n",
    "                        summary,batch_acc, val_state = sess.run([merged,accuracy, final_state], feed_dict=feed)\n",
    "                        val_acc.append(batch_acc)\n",
    "                        train_writer.add_summary(summary, iteration)\n",
    "                    print(\"Val acc: {:.8f}\".format(np.mean(val_acc)))\n",
    "                iteration +=1\n",
    "            saver.save(sess, \"checkpoints/crypto-predict.ckpt\")\n",
    "\n",
    "    print(\"--- %s seconds ---\" % (time.time() - start_time))"
   ]
  },
  {
   "cell_type": "code",
   "execution_count": 166,
   "metadata": {},
   "outputs": [
    {
     "name": "stdout",
     "output_type": "stream",
     "text": [
      "INFO:tensorflow:Restoring parameters from checkpoints/crypto-predict.ckpt\n",
      "Test accuracy: 0.660\n"
     ]
    }
   ],
   "source": [
    "test_acc = []\n",
    "with tf.Session(graph=train_graph) as sess:\n",
    "    saver.restore(sess, tf.train.latest_checkpoint('checkpoints'))\n",
    "    test_state = sess.run(cell.zero_state(batch_size, tf.float32))\n",
    "    for ii, (x, y) in enumerate(get_batches(test_x, test_y, batch_size), 1):\n",
    "        feed = {inputs: x,\n",
    "                labels: y[:, None],\n",
    "                keep_prob: 1,\n",
    "                initial_state: test_state}\n",
    "        batch_acc, test_state = sess.run([accuracy, final_state], feed_dict=feed)\n",
    "        test_acc.append(batch_acc)\n",
    "    print(\"Test accuracy: {:.3f}\".format(np.mean(test_acc)))"
   ]
  },
  {
   "cell_type": "code",
   "execution_count": null,
   "metadata": {
    "collapsed": true
   },
   "outputs": [],
   "source": []
  }
 ],
 "metadata": {
  "kernelspec": {
   "display_name": "Python [default]",
   "language": "python",
   "name": "python3"
  },
  "language_info": {
   "codemirror_mode": {
    "name": "ipython",
    "version": 3
   },
   "file_extension": ".py",
   "mimetype": "text/x-python",
   "name": "python",
   "nbconvert_exporter": "python",
   "pygments_lexer": "ipython3",
   "version": "3.5.3"
  }
 },
 "nbformat": 4,
 "nbformat_minor": 2
}
